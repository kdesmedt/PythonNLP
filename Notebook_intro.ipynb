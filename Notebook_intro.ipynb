{
  "nbformat": 4,
  "nbformat_minor": 0,
  "metadata": {
    "colab": {
      "provenance": [],
      "authorship_tag": "ABX9TyNgaQRIjr/a5ISsLKPc+gQ/",
      "include_colab_link": true
    },
    "kernelspec": {
      "name": "python3",
      "display_name": "Python 3"
    },
    "language_info": {
      "name": "python"
    }
  },
  "cells": [
    {
      "cell_type": "markdown",
      "metadata": {
        "id": "view-in-github",
        "colab_type": "text"
      },
      "source": [
        "<a href=\"https://colab.research.google.com/github/kdesmedt/PythonNLP/blob/main/Notebook_intro.ipynb\" target=\"_parent\"><img src=\"https://colab.research.google.com/assets/colab-badge.svg\" alt=\"Open In Colab\"/></a>"
      ]
    },
    {
      "cell_type": "markdown",
      "metadata": {
        "id": "637cc60d"
      },
      "source": [
        "# First steps with Jupyter Notebook: Python as a calculator\n",
        "\n",
        "\n",
        "by Koenraad De Smedt at UiB"
      ]
    },
    {
      "cell_type": "markdown",
      "metadata": {
        "id": "gkGG4xyHwxi5"
      },
      "source": [
        "---\n",
        "Jupyter Notebook is a web-based interactive computing platform for writing and testing Python scripts. To use it, do one of the following:\n",
        "\n",
        "1.   *File > Save a copy in Drive*, then open your copy. Google provides hosted runtime so that your code is executed by a remote Python interpreter. All your changes will be automatically saved to your Google Drive.\n",
        "\n",
        "2.   Alternatively, *File > Download* in Visual Studio Code (VSC) or another compatible application. VSC will normally execute your code on your own machine, which assumes you have a Python interpreter. Saving changes may require explicit action.\n",
        "---\n"
      ]
    },
    {
      "cell_type": "markdown",
      "source": [
        "*Cells* may contain text, such as the text you are now reading, or they may contain code, like the cell below. Let's use Python as a calculator. Execute the code cells below by clicking on the ▷ icon next to it. Output will appear below the code."
      ],
      "metadata": {
        "id": "v4eb2lw5wQVH"
      }
    },
    {
      "cell_type": "code",
      "metadata": {
        "id": "_JDIS8rcUTLS"
      },
      "source": [
        "10 * 4 + 2"
      ],
      "execution_count": null,
      "outputs": []
    },
    {
      "cell_type": "markdown",
      "metadata": {
        "id": "mjnYyPFN1zBG"
      },
      "source": [
        "Mathematical operators follow the normal order of operations: parentheses, exponents, multiplication and division from left to right, and addition and subtraction from left to right. Test the following."
      ]
    },
    {
      "cell_type": "code",
      "metadata": {
        "scrolled": true,
        "id": "70ade8cc"
      },
      "source": [
        "10 * (4 + 2)"
      ],
      "execution_count": null,
      "outputs": []
    },
    {
      "cell_type": "markdown",
      "source": [
        "A *variable* is a name associated with a value by means of a single equal sign. The following assigns the value `400` to the name `f`. You can choose the names of your variables; they can only consist of letters, digits or underscore _ and cannot start with a digit."
      ],
      "metadata": {
        "id": "Nz6XRCG5UtEm"
      }
    },
    {
      "cell_type": "code",
      "source": [
        "f = 400"
      ],
      "metadata": {
        "id": "5-yITwr7UmmS"
      },
      "execution_count": null,
      "outputs": []
    },
    {
      "cell_type": "markdown",
      "source": [
        "We can obtain the value associated with a variable by writing its name."
      ],
      "metadata": {
        "id": "9-luDDvgVTWS"
      }
    },
    {
      "cell_type": "code",
      "source": [
        "f"
      ],
      "metadata": {
        "id": "9RGHygd8VnwC"
      },
      "execution_count": null,
      "outputs": []
    },
    {
      "cell_type": "markdown",
      "metadata": {
        "id": "LmzG5MLeSvI4"
      },
      "source": [
        "The following example uses the variable which was just defined. Python is used as a calculator here to convert a temperature from Fahrenheit to Celcius."
      ]
    },
    {
      "cell_type": "code",
      "metadata": {
        "id": "CUNfKNETTJWE"
      },
      "source": [
        "(f - 32) * 5/9"
      ],
      "execution_count": null,
      "outputs": []
    },
    {
      "cell_type": "markdown",
      "source": [
        "Variables keep their value until they are changed (or until you quit your Python session)."
      ],
      "metadata": {
        "id": "ErZ45NgkWJmf"
      }
    },
    {
      "cell_type": "code",
      "source": [
        "f = 350\n",
        "(f - 32) * 5/9"
      ],
      "metadata": {
        "id": "duAu6hwhVx62"
      },
      "execution_count": null,
      "outputs": []
    },
    {
      "cell_type": "markdown",
      "source": [
        "Comments can be added after the `#` sign."
      ],
      "metadata": {
        "id": "wOvyMyuFHVr7"
      }
    },
    {
      "cell_type": "code",
      "source": [
        "f = 375  # give f a new value"
      ],
      "metadata": {
        "id": "istRPyXVHOTR"
      },
      "execution_count": null,
      "outputs": []
    },
    {
      "cell_type": "markdown",
      "source": [
        "Equality of values can be tested with a *double* equal sign. The result is `True` or `False`."
      ],
      "metadata": {
        "id": "b6RtOysMV5oe"
      }
    },
    {
      "cell_type": "code",
      "source": [
        "f == 375"
      ],
      "metadata": {
        "id": "HeqA4ooSPCYa"
      },
      "execution_count": null,
      "outputs": []
    },
    {
      "cell_type": "code",
      "source": [
        "f == 350"
      ],
      "metadata": {
        "id": "2FK6W8peWF1B"
      },
      "execution_count": null,
      "outputs": []
    },
    {
      "cell_type": "markdown",
      "metadata": {
        "id": "AGKoBi4lzETJ"
      },
      "source": [
        "Here are a few more tests. Only the last value computed in a cell is returned. So, after running the next cell, you will only see the result of the last statement."
      ]
    },
    {
      "cell_type": "code",
      "metadata": {
        "id": "OHYHHgRUzP-W"
      },
      "source": [
        "f < 100\n",
        "f > 100"
      ],
      "execution_count": null,
      "outputs": []
    },
    {
      "cell_type": "markdown",
      "metadata": {
        "id": "k6AAnxEYzi0b"
      },
      "source": [
        "If you want to see output from several statements in one cell, use the print function."
      ]
    },
    {
      "cell_type": "code",
      "metadata": {
        "id": "lDxCz3_Ez9G3"
      },
      "source": [
        "print(f < 100)\n",
        "print(f > 100)"
      ],
      "execution_count": null,
      "outputs": []
    },
    {
      "cell_type": "markdown",
      "metadata": {
        "id": "VpSHnAOfVMR7"
      },
      "source": [
        "Some functionality can be added to Python by importing *modules*. The following code imports the `sys` module, which, among other things, provides the variable `sys.version`; its value is a description of the Python version you are using. Version 3 is currently recommended, version 2 is outdated."
      ]
    },
    {
      "cell_type": "code",
      "metadata": {
        "id": "ObiCupcETPOU"
      },
      "source": [
        "import sys\n",
        "print('This Python version is', sys.version)"
      ],
      "execution_count": null,
      "outputs": []
    },
    {
      "cell_type": "markdown",
      "metadata": {
        "id": "2Lcmr76h4Na6"
      },
      "source": [
        "### Exercises\n",
        "\n",
        "1.  Add a new code cell. Write a new variable name and assign it a numerical value.\n",
        "2.  Add a new code cell. Test whether your new variable is equal to 0. Also try additional tests with `!=` (not equal), `<=` (smaller than or equal) and `>=` (larger than or equal).\n",
        "3.  Add another code cell. Try out the following additional math operators: `-` (subtraction), `/` (division), `//` (floor division), `**` (exponent).\n",
        "4.  Add a *code* cell below this cell and calculate the average number of days in a month in a leap year."
      ]
    },
    {
      "cell_type": "markdown",
      "metadata": {
        "id": "-LDLTihtH3JW"
      },
      "source": [
        "### Further information\n",
        "\n",
        "Your notebook is automatically saved after changes, so when you close and reopen it, you get the saved version. However, the value of variables and other effects of executing code are not saved, so the execution of cells will have to be repeated after closing and reopening.\n",
        "\n",
        "If you want more information on Google Colab, go to https://colab.research.google.com/notebooks/intro.ipynb."
      ]
    }
  ]
}